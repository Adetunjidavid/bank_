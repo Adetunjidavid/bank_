{
 "cells": [
  {
   "cell_type": "code",
   "execution_count": null,
   "id": "32a035ed-4a9e-4da0-9622-ea5dd7619a84",
   "metadata": {},
   "outputs": [],
   "source": [
    "name = input(\"Enter name:\")\n",
    "pin = input(\"Enter pin here:\")\n",
    "if pin == \"1970\":\n",
    "    print(f\"Welcome {name}\")\n",
    "    print(\"\"\"what would you like to do\n",
    "    1.check balance\n",
    "    2.withdraw money\n",
    "    3.deposit money\"\"\")\n",
    "    number = input()\n",
    "    if number == \"1\":\n",
    "        print(\"your balance is: $3200\")\n",
    "    elif number == \"2\":\n",
    "        money = int(input(\"How much do you want to withdraw\"))\n",
    "        if money <= 3200:\n",
    "            print(\"Collect money at front desk\")\n",
    "            print(f\"Your new balance is {3200 - money}\")\n",
    "        else:\n",
    "            print(\"insufficient funds\")\n",
    "    elif number == \"3\":\n",
    "        deposit = input(\"How much do you want to deposit\")\n",
    "        print(f\"${deposit} has been deposited in your account\")\n",
    "    else:\n",
    "        print(\"incorrect selection\")\n",
    "else:\n",
    "    print(\"incorrect pin\")"
   ]
  }
 ],
 "metadata": {
  "kernelspec": {
   "display_name": "Python 3 (ipykernel)",
   "language": "python",
   "name": "python3"
  },
  "language_info": {
   "codemirror_mode": {
    "name": "ipython",
    "version": 3
   },
   "file_extension": ".py",
   "mimetype": "text/x-python",
   "name": "python",
   "nbconvert_exporter": "python",
   "pygments_lexer": "ipython3",
   "version": "3.13.0"
  }
 },
 "nbformat": 4,
 "nbformat_minor": 5
}
